{
 "cells": [
  {
   "cell_type": "code",
   "execution_count": 3,
   "id": "e9fe55ee",
   "metadata": {},
   "outputs": [
    {
     "name": "stderr",
     "output_type": "stream",
     "text": [
      "2022-07-22 22:24:27.404988: W tensorflow/stream_executor/platform/default/dso_loader.cc:64] Could not load dynamic library 'libcudart.so.11.0'; dlerror: libcudart.so.11.0: cannot open shared object file: No such file or directory\n",
      "2022-07-22 22:24:27.405050: I tensorflow/stream_executor/cuda/cudart_stub.cc:29] Ignore above cudart dlerror if you do not have a GPU set up on your machine.\n"
     ]
    }
   ],
   "source": [
    "import tensorflow_probability as tfp\n",
    "import tensorflow as tf"
   ]
  },
  {
   "cell_type": "markdown",
   "id": "189a18b4",
   "metadata": {},
   "source": [
    "Makes predictions of future weather patterns based on weather history\n",
    "1. cold days encoded by 0, hot days encoded by 1\n",
    "2. first day in our sequence has 80% chance of being cold\n",
    "3.  cold day has 30% chance of being followed by a hot day\n",
    "4. hot day has 20% chance of being followed by a cold day\n",
    "5. on each day, temp has a normal distribution with mean = 0, sd  = 5 on a cold day, and mean = 15, sd = 10 on hot day"
   ]
  },
  {
   "cell_type": "code",
   "execution_count": 10,
   "id": "4f592d05",
   "metadata": {},
   "outputs": [],
   "source": [
    "tfd = tfp.distributions\n",
    "\n",
    "#  modelling using categorical distribution\n",
    "initial_distribution = tfd.Categorical(probs=[0.5, 0.5]) # refers to point 2\n",
    "transition_distribution = tfd.Categorical(probs=[[0.7, 0.3], [0.2, 0.8]]) # refers to points 3 and 4\n",
    "\n",
    "# loc is mean, scale is sd\n",
    "# the . converts the numbers into floats\n",
    "observation_distribution = tfd.Normal(loc=[0., 15.], scale=[5., 10.]) # refers to point 5"
   ]
  },
  {
   "cell_type": "code",
   "execution_count": 11,
   "id": "fb396bb3",
   "metadata": {},
   "outputs": [],
   "source": [
    "model = tfd.HiddenMarkovModel(initial_distribution = initial_distribution,\n",
    "                            transition_distribution = transition_distribution,\n",
    "                            observation_distribution = observation_distribution,\n",
    "                            num_steps = 7) # number of days we want to predict"
   ]
  },
  {
   "cell_type": "code",
   "execution_count": 12,
   "id": "8918741a",
   "metadata": {},
   "outputs": [
    {
     "name": "stdout",
     "output_type": "stream",
     "text": [
      "[7.5       8.25      8.625     8.812501  8.90625   8.953125  8.9765625]\n"
     ]
    }
   ],
   "source": [
    "mean = model.mean()\n",
    "\n",
    "with tf.compat.v1.Session() as sess:\n",
    "    print(mean.numpy())\n",
    "    # gives the expected temperatures on each day"
   ]
  },
  {
   "cell_type": "code",
   "execution_count": null,
   "id": "d7761370",
   "metadata": {},
   "outputs": [],
   "source": []
  }
 ],
 "metadata": {
  "kernelspec": {
   "display_name": "Python 3 (ipykernel)",
   "language": "python",
   "name": "python3"
  },
  "language_info": {
   "codemirror_mode": {
    "name": "ipython",
    "version": 3
   },
   "file_extension": ".py",
   "mimetype": "text/x-python",
   "name": "python",
   "nbconvert_exporter": "python",
   "pygments_lexer": "ipython3",
   "version": "3.10.5"
  }
 },
 "nbformat": 4,
 "nbformat_minor": 5
}
