{
 "cells": [
  {
   "cell_type": "markdown",
   "id": "a08b8b7a",
   "metadata": {},
   "source": [
    "- involves an agent exploring an environment\n",
    "    - e.g. mario (agent) in a level (env)\n",
    "- state\n",
    "    - the positon the agent is in whilst in the env\n",
    "- action\n",
    "    - any interaction btwn agent and env\n",
    "    - typically change state (not always!)\n",
    "- reward\n",
    "    - what agent is trying to maximize\n",
    "    - after evey action taken, agent will receive a reward\n",
    "    - similar to loss function: assessment of accuracy"
   ]
  },
  {
   "cell_type": "markdown",
   "id": "c805e046",
   "metadata": {},
   "source": [
    "# Q-Learning\n",
    "- create a matrix of action-reward values, called Q-matrix or Q-table\n",
    "- matrix has a shape of (# of possible states, number of possible actions)\n",
    "- each value at [n, m] represents agent's expected reward given they are in state n and take action m\n",
    "- after succesful training / learning of this matrix, can determine the action an agent should take in any state by looking at the states row and taking the max value column as the action\n",
    "| A1      | A2      | A3      | A4     |\n",
    "| :---    | :---:   | :---:   | ---:   |\n",
    "| 0       | 0       | 10      | 5      |\n",
    "| 5       | 10      | 0       | 0      |\n",
    "| 10      | 5       | 0       | 0      |\n",
    "\n",
    "- A1 - A4 are the possible actions, have 3 states represented by each row (state 1 - state 3)\n",
    "- preferred actions in each state\n",
    "    - state 1: A3\n",
    "    - state 2: A2\n",
    "    - state 3: A1"
   ]
  },
  {
   "cell_type": "markdown",
   "id": "3008a561",
   "metadata": {},
   "source": [
    "## Learning the Q-Table\n",
    "##### Updating Q-values\n",
    "- Q[state, action] = Qstate, action] + α * (reward + γ * max(Q[newState,:]) - Q[state,action])\n",
    "    - where α stands for Learning rate, means the values will update slower\n",
    "    - γ stands for discount factor\n",
    "        - higher = future rewards will be considered more heavily\n",
    "        - lower = focus on current state"
   ]
  },
  {
   "cell_type": "code",
   "execution_count": 1,
   "id": "d8f441c3",
   "metadata": {},
   "outputs": [],
   "source": [
    "# open ai gym\n",
    "import gym\n",
    "import numpy as np\n",
    "import time"
   ]
  },
  {
   "cell_type": "code",
   "execution_count": 2,
   "id": "1c26e4e3",
   "metadata": {},
   "outputs": [
    {
     "name": "stderr",
     "output_type": "stream",
     "text": [
      "/home/erichu/.local/lib/python3.10/site-packages/gym/core.py:329: DeprecationWarning: \u001b[33mWARN: Initializing wrapper in old step API which returns one bool instead of two. It is recommended to set `new_step_api=True` to use new step API. This will be the default behaviour in future.\u001b[0m\n",
      "  deprecation(\n",
      "/home/erichu/.local/lib/python3.10/site-packages/gym/wrappers/step_api_compatibility.py:39: DeprecationWarning: \u001b[33mWARN: Initializing environment in old step API which returns one bool instead of two. It is recommended to set `new_step_api=True` to use new step API. This will be the default behaviour in future.\u001b[0m\n",
      "  deprecation(\n"
     ]
    }
   ],
   "source": [
    "env = gym.make('FrozenLake-v1') # frozenlake env\n",
    "STATES = env.observation_space.n\n",
    "ACTIONS = env.action_space.n"
   ]
  },
  {
   "cell_type": "code",
   "execution_count": 3,
   "id": "c5a09e1e",
   "metadata": {},
   "outputs": [
    {
     "name": "stdout",
     "output_type": "stream",
     "text": [
      "16\n",
      "4\n"
     ]
    }
   ],
   "source": [
    "print(env.observation_space.n) # get number of states\n",
    "print(env.action_space.n) # get number of actions"
   ]
  },
  {
   "cell_type": "code",
   "execution_count": 4,
   "id": "619b0dfa",
   "metadata": {},
   "outputs": [
    {
     "data": {
      "text/plain": [
       "0"
      ]
     },
     "execution_count": 4,
     "metadata": {},
     "output_type": "execute_result"
    }
   ],
   "source": [
    "env.reset() # reset to default"
   ]
  },
  {
   "cell_type": "code",
   "execution_count": 5,
   "id": "540572a7",
   "metadata": {},
   "outputs": [],
   "source": [
    "action = env.action_space.sample() # get random action"
   ]
  },
  {
   "cell_type": "code",
   "execution_count": 6,
   "id": "cdc87e44",
   "metadata": {},
   "outputs": [],
   "source": [
    "new_state, reward, done, info = env.step(action)\n",
    "# new_atate: the state we are moving into\n",
    "# reward: what reward received for taking such action\n",
    "# done: did we win or lose\n",
    "# info: gives info"
   ]
  },
  {
   "cell_type": "code",
   "execution_count": 7,
   "id": "44e82784",
   "metadata": {},
   "outputs": [
    {
     "name": "stdout",
     "output_type": "stream",
     "text": [
      "[[0. 0. 0. 0.]\n",
      " [0. 0. 0. 0.]\n",
      " [0. 0. 0. 0.]\n",
      " [0. 0. 0. 0.]\n",
      " [0. 0. 0. 0.]\n",
      " [0. 0. 0. 0.]\n",
      " [0. 0. 0. 0.]\n",
      " [0. 0. 0. 0.]\n",
      " [0. 0. 0. 0.]\n",
      " [0. 0. 0. 0.]\n",
      " [0. 0. 0. 0.]\n",
      " [0. 0. 0. 0.]\n",
      " [0. 0. 0. 0.]\n",
      " [0. 0. 0. 0.]\n",
      " [0. 0. 0. 0.]\n",
      " [0. 0. 0. 0.]]\n"
     ]
    }
   ],
   "source": [
    "Q = np.zeros((STATES, ACTIONS)) # matrix with all 0\n",
    "print(Q)"
   ]
  },
  {
   "cell_type": "code",
   "execution_count": 28,
   "id": "4af1861f",
   "metadata": {},
   "outputs": [],
   "source": [
    "EPISODES = 1500 # how many times to run the env\n",
    "MAX_STEPS = 100 # max number of steps allowed for each run (prevents infinite loops)\n",
    "\n",
    "LEARNING_RATE = 0.81\n",
    "DISCOUNT_FACTOR = 0.96\n",
    "RENDER = False # if you want to see the training"
   ]
  },
  {
   "cell_type": "code",
   "execution_count": 29,
   "id": "92c677b0",
   "metadata": {},
   "outputs": [
    {
     "data": {
      "text/plain": [
       "'\\nepsilon = 0.9 # 90% chance of picking a random action\\nif np.random.uniform(0, 1) < epsilon: # check if random val is smalelr than epsilon\\n    action = env.action_space.sample() # take random action\\nelse:\\n    action = np.argmax(Q[state, :])  # find max val in the state row of Q-Val\\n'"
      ]
     },
     "execution_count": 29,
     "metadata": {},
     "output_type": "execute_result"
    }
   ],
   "source": [
    "# picking an action\n",
    "# at each step, can pick action by random, or by using the Q-Table\n",
    "'''\n",
    "epsilon = 0.9 # 90% chance of picking a random action\n",
    "if np.random.uniform(0, 1) < epsilon: # check if random val is smalelr than epsilon\n",
    "    action = env.action_space.sample() # take random action\n",
    "else:\n",
    "    action = np.argmax(Q[state, :])  # find max val in the state row of Q-Val\n",
    "'''"
   ]
  },
  {
   "cell_type": "code",
   "execution_count": 30,
   "id": "5302faeb",
   "metadata": {},
   "outputs": [],
   "source": [
    "# updating Q values: just use formula described above\n"
   ]
  },
  {
   "cell_type": "code",
   "execution_count": 31,
   "id": "be8f1919",
   "metadata": {},
   "outputs": [
    {
     "name": "stdout",
     "output_type": "stream",
     "text": [
      "[[2.50437373e-01 3.02759391e-03 3.28200516e-03 3.45587926e-03]\n",
      " [2.61915083e-03 7.31311047e-04 1.62514888e-03 1.94384182e-01]\n",
      " [1.90344449e-03 2.26502078e-01 1.69467418e-03 2.89888411e-03]\n",
      " [5.50688038e-04 1.36764042e-03 7.30082055e-04 5.45421257e-02]\n",
      " [3.32288022e-01 7.80694480e-04 1.32775490e-03 1.06449057e-03]\n",
      " [0.00000000e+00 0.00000000e+00 0.00000000e+00 0.00000000e+00]\n",
      " [5.43473795e-02 2.31659594e-07 6.08048930e-07 2.23256848e-07]\n",
      " [0.00000000e+00 0.00000000e+00 0.00000000e+00 0.00000000e+00]\n",
      " [2.05161663e-03 7.59125354e-04 2.14651187e-03 4.31384595e-01]\n",
      " [4.29255021e-04 6.85718540e-01 1.73732637e-03 8.18787962e-04]\n",
      " [8.18047578e-05 5.75181784e-01 1.09840879e-04 1.38141161e-04]\n",
      " [0.00000000e+00 0.00000000e+00 0.00000000e+00 0.00000000e+00]\n",
      " [0.00000000e+00 0.00000000e+00 0.00000000e+00 0.00000000e+00]\n",
      " [2.22412801e-02 2.89460807e-02 6.41188537e-01 1.66405716e-02]\n",
      " [7.35846107e-02 9.07328519e-01 1.09729279e-01 8.64052906e-02]\n",
      " [0.00000000e+00 0.00000000e+00 0.00000000e+00 0.00000000e+00]]\n",
      "Average reward: 0.7146666666666667:\n"
     ]
    }
   ],
   "source": [
    "rewards = []\n",
    "\n",
    "for episode in range(EPISODES):\n",
    "    state = env.reset()\n",
    "    \n",
    "    for _ in range(MAX_STEPS):\n",
    "        if RENDER:\n",
    "            env.render()\n",
    "        \n",
    "        if np.random.uniform(0, 1) < epsilon:\n",
    "            action = env.action_space.sample()\n",
    "        else:\n",
    "            action = np.argmax(Q[state, :])\n",
    "            \n",
    "        next_state, reward, done, _ = env.step(action)\n",
    "        \n",
    "        Q[state, action] = Q[state, action] + LEARNING_RATE * (reward + DISCOUNT_FACTOR * np.max(Q[next_state, :]) - Q[state,  action])\n",
    "        \n",
    "        state = next_state\n",
    "        \n",
    "        if done:\n",
    "            rewards.append(reward)\n",
    "            epsilon -= 0.001\n",
    "            break # reached goal\n",
    "            \n",
    "print(Q)\n",
    "print(f\"Average reward: {sum(rewards) / len(rewards)}:\")\n"
   ]
  },
  {
   "cell_type": "code",
   "execution_count": 32,
   "id": "f6242b4d",
   "metadata": {},
   "outputs": [
    {
     "data": {
      "image/png": "[encoded data removed]",
      "text/plain": [
       "<Figure size 432x288 with 1 Axes>"
      ]
     },
     "metadata": {
      "needs_background": "light"
     },
     "output_type": "display_data"
    }
   ],
   "source": [
    "# plotting training progress\n",
    "\n",
    "import matplotlib.pyplot as plt\n",
    "\n",
    "def get_average(values):\n",
    "    return sum(values) / len(values)\n",
    "\n",
    "avg_rewards = []\n",
    "\n",
    "for i in range(0, len(rewards), 100):\n",
    "    avg_rewards.append(get_average(rewards[i : i + 100]))\n",
    "    \n",
    "plt.plot(avg_rewards)\n",
    "plt.ylabel('average reward')\n",
    "plt.xlabel('episodes (100\\'s)')\n",
    "plt.show()"
   ]
  },
  {
   "cell_type": "code",
   "execution_count": null,
   "id": "3f0ca536",
   "metadata": {},
   "outputs": [],
   "source": []
  }
 ],
 "metadata": {
  "kernelspec": {
   "display_name": "Python 3 (ipykernel)",
   "language": "python",
   "name": "python3"
  },
  "language_info": {
   "codemirror_mode": {
    "name": "ipython",
    "version": 3
   },
   "file_extension": ".py",
   "mimetype": "text/x-python",
   "name": "python",
   "nbconvert_exporter": "python",
   "pygments_lexer": "ipython3",
   "version": "3.10.5"
  }
 },
 "nbformat": 4,
 "nbformat_minor": 5
}
